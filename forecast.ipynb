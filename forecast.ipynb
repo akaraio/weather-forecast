{
 "cells": [
  {
   "cell_type": "code",
   "execution_count": null,
   "metadata": {
    "executionInfo": {
     "elapsed": 396,
     "status": "ok",
     "timestamp": 1733437137876,
     "user": {
      "displayName": "akara",
      "userId": "03294495074658875410"
     },
     "user_tz": -120
    },
    "id": "c1Zi8DZW3qc8"
   },
   "outputs": [],
   "source": [
    "import pandas as pd\n",
    "import numpy as np\n",
    "import matplotlib.pyplot as plt\n",
    "import seaborn as sns\n",
    "\n",
    "from scipy import stats\n",
    "from sklearn.model_selection import train_test_split\n",
    "from sklearn.impute import SimpleImputer\n",
    "from sklearn.preprocessing import OneHotEncoder, MinMaxScaler, StandardScaler\n",
    "from sklearn.compose import ColumnTransformer\n",
    "from sklearn.pipeline import Pipeline"
   ]
  },
  {
   "cell_type": "code",
   "execution_count": null,
   "metadata": {
    "colab": {
     "base_uri": "https://localhost:8080/",
     "height": 424
    },
    "executionInfo": {
     "elapsed": 398,
     "status": "ok",
     "timestamp": 1733436574691,
     "user": {
      "displayName": "akara",
      "userId": "03294495074658875410"
     },
     "user_tz": -120
    },
    "id": "dZa6rZXT3tKR",
    "outputId": "cd643df5-5e7b-49ca-bbe2-cf3bf72e87cc"
   },
   "outputs": [],
   "source": [
    "df = pd.read_csv('data')\n",
    "df"
   ]
  },
  {
   "cell_type": "code",
   "execution_count": null,
   "metadata": {
    "colab": {
     "base_uri": "https://localhost:8080/"
    },
    "executionInfo": {
     "elapsed": 380,
     "status": "ok",
     "timestamp": 1733436617410,
     "user": {
      "displayName": "akara",
      "userId": "03294495074658875410"
     },
     "user_tz": -120
    },
    "id": "TC9D9qzl3x1y",
    "outputId": "eb5ad1de-3d46-4c03-9a2a-667d5b57544d"
   },
   "outputs": [],
   "source": [
    "df.info()"
   ]
  },
  {
   "cell_type": "code",
   "execution_count": null,
   "metadata": {
    "colab": {
     "base_uri": "https://localhost:8080/"
    },
    "executionInfo": {
     "elapsed": 376,
     "status": "ok",
     "timestamp": 1733436712691,
     "user": {
      "displayName": "akara",
      "userId": "03294495074658875410"
     },
     "user_tz": -120
    },
    "id": "iNjjXGzu36m5",
    "outputId": "58803a55-9f69-4839-9d4d-c533aae9fd64"
   },
   "outputs": [],
   "source": [
    "df = pd.read_csv('data', parse_dates=['date'], index_col=\"date\")\n",
    "df.info()"
   ]
  },
  {
   "cell_type": "code",
   "execution_count": null,
   "metadata": {
    "colab": {
     "base_uri": "https://localhost:8080/",
     "height": 711
    },
    "executionInfo": {
     "elapsed": 392,
     "status": "ok",
     "timestamp": 1733436716181,
     "user": {
      "displayName": "akara",
      "userId": "03294495074658875410"
     },
     "user_tz": -120
    },
    "id": "-rTIjG-84GR6",
    "outputId": "e29686bd-7ca2-47b3-e808-3560f5e4a983"
   },
   "outputs": [],
   "source": [
    "df.isna().sum()"
   ]
  },
  {
   "cell_type": "code",
   "execution_count": null,
   "metadata": {
    "colab": {
     "base_uri": "https://localhost:8080/",
     "height": 677
    },
    "executionInfo": {
     "elapsed": 901,
     "status": "ok",
     "timestamp": 1733436718750,
     "user": {
      "displayName": "akara",
      "userId": "03294495074658875410"
     },
     "user_tz": -120
    },
    "id": "mHKvMVCT4I96",
    "outputId": "60097e36-cd71-4845-cc20-2c55a7714965"
   },
   "outputs": [],
   "source": [
    "df.describe().T"
   ]
  },
  {
   "cell_type": "code",
   "execution_count": null,
   "metadata": {
    "colab": {
     "base_uri": "https://localhost:8080/",
     "height": 267
    },
    "executionInfo": {
     "elapsed": 385,
     "status": "ok",
     "timestamp": 1733436732808,
     "user": {
      "displayName": "akara",
      "userId": "03294495074658875410"
     },
     "user_tz": -120
    },
    "id": "8miRNeo_4Usy",
    "outputId": "11a5b8a8-f071-4839-e5e6-cdfa8b2e8f0c"
   },
   "outputs": [],
   "source": [
    "df[\"year\"] = df.index.year\n",
    "df['month'] = df.index.month\n",
    "df['day'] = df.index.day\n",
    "df['dayofweek'] = df.index.dayofweek\n",
    "df[\"date\"] = df.index.date\n",
    "\n",
    "df.head()"
   ]
  },
  {
   "cell_type": "code",
   "execution_count": null,
   "metadata": {
    "executionInfo": {
     "elapsed": 380,
     "status": "ok",
     "timestamp": 1733436804443,
     "user": {
      "displayName": "akara",
      "userId": "03294495074658875410"
     },
     "user_tz": -120
    },
    "id": "7USREsHK4h5d"
   },
   "outputs": [],
   "source": [
    "df_copy = df.copy()"
   ]
  },
  {
   "cell_type": "code",
   "execution_count": null,
   "metadata": {
    "colab": {
     "base_uri": "https://localhost:8080/",
     "height": 455
    },
    "executionInfo": {
     "elapsed": 708,
     "status": "ok",
     "timestamp": 1733436992293,
     "user": {
      "displayName": "akara",
      "userId": "03294495074658875410"
     },
     "user_tz": -120
    },
    "id": "U7AsWR-k4onY",
    "outputId": "2715df16-8fb4-419d-9099-9ff8d3ea9b65"
   },
   "outputs": [],
   "source": [
    "df_copy = df_copy[['T', 'rain', 'wv', 'rh']]\n",
    "df_copy"
   ]
  },
  {
   "cell_type": "code",
   "execution_count": null,
   "metadata": {
    "executionInfo": {
     "elapsed": 3,
     "status": "ok",
     "timestamp": 1733437228499,
     "user": {
      "displayName": "akara",
      "userId": "03294495074658875410"
     },
     "user_tz": -120
    },
    "id": "vdey-Cu66Naj"
   },
   "outputs": [],
   "source": [
    "train_size = int(len(df_copy) * 0.8)\n",
    "train, test = df_copy.iloc[:train_size], df_copy.iloc[train_size:]"
   ]
  },
  {
   "cell_type": "code",
   "execution_count": null,
   "metadata": {
    "colab": {
     "base_uri": "https://localhost:8080/",
     "height": 683
    },
    "executionInfo": {
     "elapsed": 18916,
     "status": "ok",
     "timestamp": 1733437308014,
     "user": {
      "displayName": "akara",
      "userId": "03294495074658875410"
     },
     "user_tz": -120
    },
    "id": "vLTRDDWk6Yba",
    "outputId": "66d4cf27-2aaa-43cb-b02c-dbda3459d816"
   },
   "outputs": [],
   "source": [
    "from statsmodels.tsa.arima.model import ARIMA\n",
    "from sklearn.metrics import mean_squared_error, r2_score, mean_absolute_error\n",
    "\n",
    "arima_model = ARIMA(train['T'], order=(1,1,1))\n",
    "arima_model_fit = arima_model.fit()\n",
    "\n",
    "arima_pred = arima_model_fit.forecast(steps=len(test))\n",
    "\n",
    "error = mean_squared_error(test['T'], arima_pred)\n",
    "print('Test MSE: %.3f' % error)\n",
    "\n",
    "# Plot the results\n",
    "plt.plot(test.index, test['T'], label='Actual')\n",
    "plt.plot(test.index, arima_pred, color='red', label='Forecast')\n",
    "plt.xlabel('Date')\n",
    "plt.ylabel('Difference in Meantemp')\n",
    "plt.title('ARIMA Forecast')"
   ]
  },
  {
   "cell_type": "code",
   "execution_count": null,
   "metadata": {
    "colab": {
     "base_uri": "https://localhost:8080/",
     "height": 711
    },
    "executionInfo": {
     "elapsed": 54130,
     "status": "ok",
     "timestamp": 1733439486952,
     "user": {
      "displayName": "akara",
      "userId": "03294495074658875410"
     },
     "user_tz": -120
    },
    "id": "8mtZ0LICASkZ",
    "outputId": "f340960c-51b6-46ed-961e-e1d90eef9edb"
   },
   "outputs": [],
   "source": [
    "from prophet import Prophet\n",
    "\n",
    "df_new = df_new.reset_index(drop=True)\n",
    "df_new = df[['date', 'T']].rename(columns={'date': 'ds', 'T': 'y'})\n",
    "df_new = df_new.sort_values('ds')\n",
    "\n",
    "model = Prophet()\n",
    "model.fit(df_new)\n",
    "\n",
    "future = model.make_future_dataframe(periods=60)\n",
    "forecast = model.predict(future)\n",
    "predicted = forecast[['ds', 'yhat']].set_index('ds').loc[p_test['ds']]\n",
    "\n",
    "mse = mean_squared_error(p_test['y'], predicted['yhat'])\n",
    "r2 = r2_score(p_test['y'], predicted['yhat'])\n",
    "print('Test MSE: %.3f' % mse)\n",
    "print('Test R²: %.3f' % r2)\n",
    "\n",
    "plt.figure(figsize=(15, 5))\n",
    "plt.plot(df_prophet['ds'], df_prophet['y'], label='Actual')\n",
    "plt.plot(predicted.index, predicted['yhat'], color='red', label='Forecast')\n",
    "plt.xlabel('Date')\n",
    "plt.ylabel('Temperature');"
   ]
  },
  {
   "cell_type": "code",
   "execution_count": null,
   "metadata": {
    "colab": {
     "base_uri": "https://localhost:8080/",
     "height": 1000
    },
    "executionInfo": {
     "elapsed": 2278,
     "status": "ok",
     "timestamp": 1733439500710,
     "user": {
      "displayName": "akara",
      "userId": "03294495074658875410"
     },
     "user_tz": -120
    },
    "id": "qtMjk_-qBcPS",
    "outputId": "754df402-1c4f-4f6c-c274-f56c5d926e27"
   },
   "outputs": [],
   "source": [
    "model.plot(forecast, xlabel='Date', ylabel='Temperature')"
   ]
  }
 ],
 "metadata": {
  "colab": {
   "authorship_tag": "ABX9TyMA1GfQZJX1Afi/bjVuAXqW",
   "mount_file_id": "1WRK_Tz48zC9Ibs3OTNcjKZAlMFihDvCh",
   "provenance": []
  },
  "kernelspec": {
   "display_name": "Python 3",
   "name": "python3"
  },
  "language_info": {
   "name": "python"
  }
 },
 "nbformat": 4,
 "nbformat_minor": 0
}
